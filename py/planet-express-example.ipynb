{
 "cells": [
  {
   "cell_type": "markdown",
   "metadata": {},
   "source": [
    "# Project 1: Futurama Example"
   ]
  },
  {
   "cell_type": "markdown",
   "metadata": {},
   "source": [
    "### Project 1: Futurama Example\n",
    "\n",
    "##### IDENTIFY: Understand the problem:\n",
    "Using Planet Express customer data from January 3001-3005, determine how likely previous customers are to request a repeat delivery using demographic information (profession, company size, location) and previous delivery data (days since last delivery, number of total deliveries)\n",
    "\n",
    "- Identify business/product objectives:\n",
    "\t- Are previous customers are to request a repeat delivery?\n",
    "- Identify and hypothesize goals and criteria for success:\n",
    "\t- What factors are likely to influence a customer's decision to be reuse Planet Express for Delivery?\n",
    "- Create a set of questions to help you identify the correct data set.\n",
    "\n",
    "\n",
    "##### ACQUIRE: Obtain the data\n",
    "\n",
    "**Ideal data vs. data that is available**\n",
    "Often times we start by identifying the *ideal data* we would want for a project.\n",
    "\n",
    "During the data acquisition phase, we'll learn about the limitations on the types of data that are available. We have to decide if these limitations will inhibit our ability to answer our question of interest or if we can work with what we have to find a reasonable and reliable answer.\n",
    "\n",
    "Data for this example:\n",
    "- demographic information (profession, company size, location)\n",
    "- previous delivery data (days since last delivery, number of total deliveries)\n",
    "\n",
    "Questions we may ask include:  \n",
    "\n",
    "- Identifying the “right” data set(s)\n",
    "- Is there enough data?\n",
    "- Does it appropriately align with the question/problem statement?\n",
    "- Can the dataset be trusted?  How was it collected?\n",
    "- Is this dataset aggregated? Can we use the aggregation or do we need to get it pre-aggregation?\n",
    "- Assess resources, requirements, assumptions, and constraints\n",
    "- Import data from the web (Google Analytics, HTML, XML)\n",
    "- Import data from a file (CSV, XML, TXT, JSON)\n",
    "- Import data from a preexisting database (SQL)\n",
    "- Set up local or remote data structure\n",
    "- Determine most appropriate tools to work with data\n",
    "- Tool follows the format, size of the dataset\n",
    "\n",
    "##### PARSE: Understand the data\n",
    "Many times we are given *secondary data*, or data that was collected previously. In these cases, we have to learn as much as possible about our data using tools like data dictionaries and source documentation to determine how the data was gathered.\n",
    "\n",
    "Example data dictionary:\n",
    "\n",
    "Variable | Description | Type of Variable\n",
    "---| ---| ---\n",
    "Profession | Title of the account owner | Categorical\n",
    "Company Size | 1- small, 2- medium, 3- large| Categorical\n",
    "Location | Planet of the company | Categorical\n",
    "Days Since Last Delivery | Float | Continuous\n",
    "Number of Deliveries | Integer | Continuous\n",
    "\n",
    "**Common questions include:**  \n",
    "\n",
    "- Read any documentation provided with the data (e.g. data dictionary above)\n",
    "- Perform exploratory surface analysis via filtering, sorting, and simple visualizations\n",
    "- Describe data structure and the information being collected\n",
    "- Explore variables, data types via select\n",
    "- Assess preliminary outliers, trends\n",
    "- Verify the quality of the data (feedback loop -> 1)\n",
    "\n",
    "##### MINE: Prepare, structure, and clean the data  \n",
    "Often times, our data will need to be cleaned prior performing an analysis.\n",
    "\n",
    "Common steps include:\n",
    "\n",
    "- Sample the data, determine sampling methodology\n",
    "- Iterate and explore outliers, null values via select\n",
    "- Intro qualitative vs quantitative data\n",
    "- Format and clean data in Python (dates, number signs, formatting)\n",
    "- Define how to appropriately address missing values (cleaning)\n",
    "- Categorization, manipulation, slicing, format, integrate data\n",
    "- Format and combining different data points, separate columns, etc.\n",
    "- Determine most appropriate aggregations, cleaning, etc. methods\n",
    "- Create necessary derived columns from the data (new data)\n",
    "\n",
    "##### REFINE: Exploratory data analysis\n",
    "As an example of basic statistics, you might check the Mean (STD) or specific frequency counts.\n",
    "\n",
    "Variable | Mean (STD) or Frequency (%)\n",
    "---| ---\n",
    "Number of Deliveries | 50.0 (10)\n",
    "Earth | 50 (10%)\n",
    "Amphibios 9 | 100 (20%)\n",
    "Bogad | 100 (20%)\n",
    "Colgate 8| 100 (20%)\n",
    "Other| 150 (30%)\n",
    "\n",
    "These descriptive stats allow us to:\n",
    "\n",
    "- Identify trends and outliers\n",
    "- Decide how to deal with outliers - excluding, filtering, and communication\n",
    "- Apply descriptive and inferential statistics\n",
    "- Determine initial visualization techniques\n",
    "- Document and capture knowledge\n",
    "- Choose visualization techniques for different data types\n",
    "- Transform data\n",
    "\n",
    "##### BUILD: Create a data model\n",
    "We select a model based on the outcome we are interested in or the assumptions of the model we are using. An example of a model statement might look like this:\n",
    "\n",
    "- We completed a logistic regression using Statsmodels v. XX. We calculated the probability of a customer placing another order with Planet Express.  \n",
    "\n",
    "Here, we are using a logistic model because we are determine the probability that a customer may place a return order, which at its heart is a *classification problem*.\n",
    "\n",
    "The steps for model building are:  \n",
    "\n",
    "- Select appropriate model\n",
    "- Build model\n",
    "- Evaluate and refine model\n",
    "- Predict outcomes, action items\n",
    "\n",
    "##### PRESENT: Communicate the results of your analysis  \n",
    "Presentations are a critical part of your analysis. It doesn't matter how brilliant your model is or how illuminating your findings are, if you are not able to effectively communicate your results then they will not be used.\n",
    "\n",
    "The most basic form of a data science presentation should include a simple sentence that describes your results:\n",
    "\n",
    "- \"Customers from large companies had twice (CI 1.9, 2.1) the odds of of placing another order with Planet Express compared to customers from small companies.\"\n",
    "\n",
    "Data science presentations can also be far more complex and exciting, like some of the [research presented by Nate Silver's 538 blog](http://fivethirtyeight.com/burrito/#brackets-view).\n",
    "\n",
    "When creating a presentation, always consider your audience and make sure to practice your presentation beforehand. Consider the types of questions people might have or - better yet - test your presentation on a few people and pay attention to their response. Clarify and refine your presentation accordingly.\n",
    "\n",
    "Make sure to consider your needs and goals as well as those of your audience. A presentation created for your fellow data scientists will be vastly different than a presentation intended for some executives who are trying to make a business decision.\n",
    "\n",
    "Key factors of a good presentation include:  \n",
    "\n",
    "- Summarize findings with narrative and storytelling techniques\n",
    "- Refine your visualizations for broader comprehension\n",
    "- Present both limitations and assumptions\n",
    "- Determine the integrity of your analysis\n",
    "- Consider the degree of disclosure for various stakeholders\n",
    "- Test and evaluate the effectiveness of your presentation beforehand\n",
    "\n",
    "##### A Note About Iteration\n",
    "Iteration is an important part of *every step* in the Data Science Workflow. At any given point in the process, you may find yourself repeating or going back and re-doing elements in order to better understand your data, clarify your model, and refine your presentation.\n",
    "\n",
    "For example, after presenting your findings, you may want to:\n",
    "\n",
    "- Identify follow-up problems and questions for future analysis\n",
    "- Create a visually effective summary or report\n",
    "- Consider the needs of different stakeholders and how your report might be changed for them\n",
    "- Identify the limitations of your analysis\n",
    "- Identify relationships between visualizations\n",
    "\n",
    "***\n"
   ]
  },
  {
   "cell_type": "markdown",
   "metadata": {},
   "source": [
    "### Read and evaluate the following problem statement: \n",
    "\n",
    "Using Planet Express customer data from January 3001-3005, determine how likely previous customers are to request a repeat delivery using demographic information (profession, company size, location) and previous delivery data (days since last delivery, number of total deliveries).\n",
    "\n"
   ]
  },
  {
   "cell_type": "markdown",
   "metadata": {},
   "source": [
    "#### 1. What is the outcome?"
   ]
  },
  {
   "cell_type": "markdown",
   "metadata": {},
   "source": [
    "Answer: return customer indicator (yes/no)"
   ]
  },
  {
   "cell_type": "markdown",
   "metadata": {},
   "source": [
    "#### 2. What are the predictors/covariates? "
   ]
  },
  {
   "cell_type": "markdown",
   "metadata": {},
   "source": [
    "Answer: year, profession, location, days since last delivery, number of total deliveries"
   ]
  },
  {
   "cell_type": "markdown",
   "metadata": {},
   "source": [
    "#### 3. What timeframe is this data relevent for?"
   ]
  },
  {
   "cell_type": "markdown",
   "metadata": {},
   "source": [
    "Answer: Jan 3001-3005"
   ]
  },
  {
   "cell_type": "markdown",
   "metadata": {},
   "source": [
    "#### 4. What is the hypothesis?"
   ]
  },
  {
   "cell_type": "markdown",
   "metadata": {},
   "source": [
    "Answer: Demographic and previous delivery info will allow us to predict if a customer will be a repeat customer"
   ]
  },
  {
   "cell_type": "markdown",
   "metadata": {},
   "source": [
    "### Let's get started with our dataset"
   ]
  },
  {
   "cell_type": "code",
   "execution_count": 3,
   "metadata": {
    "collapsed": false
   },
   "outputs": [
    {
     "data": {
      "text/html": [
       "<div>\n",
       "<table border=\"1\" class=\"dataframe\">\n",
       "  <thead>\n",
       "    <tr style=\"text-align: right;\">\n",
       "      <th></th>\n",
       "      <th>Company Size</th>\n",
       "      <th>Profession</th>\n",
       "      <th>Days Since Last Delivery</th>\n",
       "      <th>Number of Deliveries</th>\n",
       "      <th>Location</th>\n",
       "      <th>Year</th>\n",
       "    </tr>\n",
       "  </thead>\n",
       "  <tbody>\n",
       "    <tr>\n",
       "      <th>0</th>\n",
       "      <td>2</td>\n",
       "      <td>Pilot</td>\n",
       "      <td>3.61</td>\n",
       "      <td>3</td>\n",
       "      <td>Earth</td>\n",
       "      <td>3001</td>\n",
       "    </tr>\n",
       "    <tr>\n",
       "      <th>1</th>\n",
       "      <td>2</td>\n",
       "      <td>Robot</td>\n",
       "      <td>3.67</td>\n",
       "      <td>3</td>\n",
       "      <td>Earth</td>\n",
       "      <td>3001</td>\n",
       "    </tr>\n",
       "    <tr>\n",
       "      <th>2</th>\n",
       "      <td>2</td>\n",
       "      <td>Pilot</td>\n",
       "      <td>4.00</td>\n",
       "      <td>1</td>\n",
       "      <td>Earth</td>\n",
       "      <td>3001</td>\n",
       "    </tr>\n",
       "    <tr>\n",
       "      <th>3</th>\n",
       "      <td>2</td>\n",
       "      <td>Pilot</td>\n",
       "      <td>3.19</td>\n",
       "      <td>4</td>\n",
       "      <td>Earth</td>\n",
       "      <td>3001</td>\n",
       "    </tr>\n",
       "    <tr>\n",
       "      <th>4</th>\n",
       "      <td>2</td>\n",
       "      <td>Pizza Delivery Boy</td>\n",
       "      <td>2.93</td>\n",
       "      <td>4</td>\n",
       "      <td>Earth</td>\n",
       "      <td>3001</td>\n",
       "    </tr>\n",
       "  </tbody>\n",
       "</table>\n",
       "</div>"
      ],
      "text/plain": [
       "   Company Size          Profession  Days Since Last Delivery  \\\n",
       "0             2               Pilot                      3.61   \n",
       "1             2               Robot                      3.67   \n",
       "2             2               Pilot                      4.00   \n",
       "3             2               Pilot                      3.19   \n",
       "4             2  Pizza Delivery Boy                      2.93   \n",
       "\n",
       "   Number of Deliveries Location  Year  \n",
       "0                     3    Earth  3001  \n",
       "1                     3    Earth  3001  \n",
       "2                     1    Earth  3001  \n",
       "3                     4    Earth  3001  \n",
       "4                     4    Earth  3001  "
      ]
     },
     "execution_count": 3,
     "metadata": {},
     "output_type": "execute_result"
    }
   ],
   "source": [
    "%matplotlib inline\n",
    "import matplotlib.pyplot as plt\n",
    "import pandas as pd\n",
    "import statsmodels.api as sm\n",
    "import pylab as pl\n",
    "import numpy as np\n",
    "\n",
    "pe_df = pd.read_csv(\"dataset/planet-express.csv\")\n",
    "pe_df.head()"
   ]
  },
  {
   "cell_type": "markdown",
   "metadata": {},
   "source": [
    "#### 1. Create a data dictionary "
   ]
  },
  {
   "cell_type": "markdown",
   "metadata": {},
   "source": [
    "Answer: \n",
    "\n",
    "Variable | Description | Type of Variable\n",
    "---| ---| ---\n",
    "Profession |Title of the account owner  | categorical\n",
    "Company Size | 1- small, 2- medium, 3- large| categorical\n",
    "Location | planet of the company | categorical \n",
    "Days Since Last Delivery | integer | continuous\n",
    "Number of Deliveries | integer | continuous\n",
    "Year | integer | continuous\n"
   ]
  },
  {
   "cell_type": "markdown",
   "metadata": {},
   "source": [
    "We would like to explore the association between admission into grad school and the prestige of undergraduate institutions."
   ]
  },
  {
   "cell_type": "markdown",
   "metadata": {},
   "source": [
    "#### 1. What is the outcome?"
   ]
  },
  {
   "cell_type": "markdown",
   "metadata": {},
   "source": [
    "Answer: ????"
   ]
  },
  {
   "cell_type": "markdown",
   "metadata": {},
   "source": [
    "#### 2. What are the predictors/covariates? "
   ]
  },
  {
   "cell_type": "markdown",
   "metadata": {},
   "source": [
    "Answer: ????"
   ]
  },
  {
   "cell_type": "markdown",
   "metadata": {},
   "source": [
    "#### 3. What timeframe is this data relevent for?"
   ]
  },
  {
   "cell_type": "markdown",
   "metadata": {},
   "source": [
    "Answer: ????"
   ]
  },
  {
   "cell_type": "markdown",
   "metadata": {},
   "source": [
    "#### 4. What is the hypothesis?"
   ]
  },
  {
   "cell_type": "markdown",
   "metadata": {},
   "source": [
    "Answer: ????"
   ]
  }
 ],
 "metadata": {
  "kernelspec": {
   "display_name": "Python 2",
   "language": "python",
   "name": "python2"
  },
  "language_info": {
   "codemirror_mode": {
    "name": "ipython",
    "version": 2
   },
   "file_extension": ".py",
   "mimetype": "text/x-python",
   "name": "python",
   "nbconvert_exporter": "python",
   "pygments_lexer": "ipython2",
   "version": "2.7.13"
  }
 },
 "nbformat": 4,
 "nbformat_minor": 0
}
